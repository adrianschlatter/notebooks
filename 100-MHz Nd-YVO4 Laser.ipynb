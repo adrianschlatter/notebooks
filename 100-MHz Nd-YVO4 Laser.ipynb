{
 "metadata": {
  "name": "",
  "signature": "sha256:f3668a11078533ba33c07c7ee0e218318b2510d410353c3110b8287d6d0301f9"
 },
 "nbformat": 3,
 "nbformat_minor": 0,
 "worksheets": [
  {
   "cells": [
    {
     "cell_type": "markdown",
     "metadata": {},
     "source": [
      "# Nd:YVO$_4$ Laser\n",
      "\n",
      "Here, I discuss a (real) 100-MHz Nd:YVO4 laser mode-locked with a SESAM (SEmiconductor Saturable Absorber Mirror) regarding its stability. "
     ]
    },
    {
     "cell_type": "code",
     "collapsed": false,
     "input": [
      "import sympy as sym\n",
      "import numpy as np\n",
      "sym.init_printing(use_latex='mathjax')\n",
      "\n",
      "wlP, wlL, wL, wA = sym.symbols('lambda_P lambda_L w_L w_A', real=True)\n",
      "TR, tauP, tauL = sym.symbols('T_R tau_P tau_L', real=True)\n",
      "Toc, etaP = sym.symbols('T_{oc} eta_P', real=True)\n",
      "DR = sym.Symbol('\\Delta R', real=True)\n",
      "DRns = sym.Symbol('\\Delta R_{ns}', real=True)\n",
      "FsatA, FsatL = sym.symbols('F_{satA} F_{satL}', real=True)\n",
      "Pstmax, gstmax = sym.symbols('P_{stmax} g_{stmax}', real=True)\n",
      "\n",
      "# Laser parameters:\n",
      "v = {wlP: 808e-9,\n",
      "     Toc: 8.7e-2,\n",
      "     wlL: 1064e-9,\n",
      "     wL: 80e-6,\n",
      "     wA: 140e-6,\n",
      "     TR: 1 / 100.25e6,\n",
      "     tauP: 10.6e-12,\n",
      "     tauL: 100e-6,\n",
      "     FsatL: 82e-3 / 1e-4,\n",
      "     FsatA: 60e-6 / 1e-4,\n",
      "     DR: 1.7e-2,\n",
      "     DRns: 1.3e-2,\n",
      "     Pstmax: 4.6}"
     ],
     "language": "python",
     "metadata": {},
     "outputs": [],
     "prompt_number": 1
    },
    {
     "cell_type": "markdown",
     "metadata": {},
     "source": [
      "# Output Power\n",
      "\n",
      "We have seen in a previous notebook that the calculation of the steady-state output power is not a simple task (sympy was unable to find an analytical solution). We will therefore address this problem numerically."
     ]
    },
    {
     "cell_type": "code",
     "collapsed": false,
     "input": [
      "import numpy as np\n",
      "from scipy.optimize import brentq\n",
      "sym.init_printing(use_latex='mathjax')\n",
      "\n",
      "def qP(EP, DR, EsatA):\n",
      "    \"\"\"Loss at SESAM\"\"\"\n",
      "    S = EP / EsatA\n",
      "    if type(EP) is float:\n",
      "        exp = np.exp\n",
      "    else:\n",
      "        exp = sym.exp\n",
      "    return(DR / S * (1 - exp(-S)))\n",
      "\n",
      "EsatA, EsatL = sym.symbols('E_{satA} E_{satL}', real=True)\n",
      "Pst, gst, l, EP = sym.symbols('P_{st} g_{st} l E_P', real=True)\n",
      "PP = sym.symbols('P_P')\n",
      "\n",
      "# Derived:\n",
      "v[EsatL] = np.pi * v[wL]**2 * v[FsatL]\n",
      "v[EsatA] = np.pi * v[wA]**2 * v[FsatA]\n",
      "v[etaP] = v[wlP] / v[wlL]\n",
      "v[l] = v[Toc] + v[DRns]\n",
      "v[gstmax] = v[l] + qP(v[Pstmax] * v[TR], v[DR], v[EsatA])\n",
      "\n",
      "# Steady-state equations:\n",
      "gst_ = sym.Eq(gst, l + qP(Pst * TR, DR, EsatA))\n",
      "Pst_ = sym.Eq(Pst, -EsatL / tauL + etaP * PP / gst)\n",
      "\n",
      "Pst_.subs(gst_.lhs, gst_.rhs)"
     ],
     "language": "python",
     "metadata": {},
     "outputs": [
      {
       "latex": [
        "$$P_{{st}} = - \\frac{E_{{satL}}}{\\tau_{L}} + \\frac{P_{P} \\eta_{P}}{\\frac{E_{{satA}} \\Delta R}{P_{{st}} T_{R}} \\left(1 - e^{- \\frac{P_{{st}} T_{R}}{E_{{satA}}}}\\right) + l}$$"
       ],
       "metadata": {},
       "output_type": "pyout",
       "prompt_number": 2,
       "text": [
        "           E_{satL}                    P_P\u22c5\u03b7_P                 \n",
        "P_{st} = - \u2500\u2500\u2500\u2500\u2500\u2500\u2500\u2500 + \u2500\u2500\u2500\u2500\u2500\u2500\u2500\u2500\u2500\u2500\u2500\u2500\u2500\u2500\u2500\u2500\u2500\u2500\u2500\u2500\u2500\u2500\u2500\u2500\u2500\u2500\u2500\u2500\u2500\u2500\u2500\u2500\u2500\u2500\u2500\u2500\u2500\u2500\u2500\u2500\u2500\n",
        "             \u03c4_L                        \u239b     -P_{st}\u22c5T_R \u239e    \n",
        "                                        \u239c     \u2500\u2500\u2500\u2500\u2500\u2500\u2500\u2500\u2500\u2500\u2500\u2500\u239f    \n",
        "                                        \u239c       E_{satA}  \u239f    \n",
        "                      E_{satA}\u22c5\\Delta R\u22c5\u239d1 - \u212f            \u23a0    \n",
        "                      \u2500\u2500\u2500\u2500\u2500\u2500\u2500\u2500\u2500\u2500\u2500\u2500\u2500\u2500\u2500\u2500\u2500\u2500\u2500\u2500\u2500\u2500\u2500\u2500\u2500\u2500\u2500\u2500\u2500\u2500\u2500\u2500\u2500\u2500\u2500\u2500\u2500 + l\n",
        "                                    P_{st}\u22c5T_R                 "
       ]
      }
     ],
     "prompt_number": 2
    },
    {
     "cell_type": "code",
     "collapsed": false,
     "input": [
      "# The root of this function is the steady-state intracavity power:\n",
      "rootfunc = Pst_.subs(gst_.lhs, gst_.rhs).rhs - Pst\n",
      "rootfunc = rootfunc.subs(v)\n",
      "\n",
      "# The pump-threshold is:\n",
      "PPthreshold = (EsatL / tauL * (l + DR) / etaP).subs(v)\n",
      "\n",
      "N = 100\n",
      "PPrange = np.linspace(PPthreshold, (Pstmax * Toc / etaP).subs(v), N)\n",
      "Pstrange = np.zeros(N)\n",
      "\n",
      "for i in range(N):\n",
      "    PPi = PPrange[i]\n",
      "    offs = (EsatL / tauL).subs(v)\n",
      "    # assume non-linear losses (qP(EP)) = 0:\n",
      "    upperBound = (-offs + PPi * etaP / l).subs(v)\n",
      "    # assume max. non-linear losses (qP(EP) = DR):\n",
      "    lowerBound = (-offs + PPi * etaP / (l + DR)).subs(v)\n",
      "    \n",
      "    f = sym.lambdify(Pst, rootfunc.subs(PP, PPi))\n",
      "    Pstrange[i] = brentq(f, lowerBound, upperBound)"
     ],
     "language": "python",
     "metadata": {},
     "outputs": [],
     "prompt_number": 3
    },
    {
     "cell_type": "code",
     "collapsed": false,
     "input": [
      "%matplotlib inline\n",
      "import matplotlib.pyplot as pl\n",
      "\n",
      "# Initial slope efficiency (@ Pst = 0):\n",
      "rho0 = (etaP * Toc / (l + DR)).subs(v)\n",
      "\n",
      "fig, ax1 = pl.subplots()\n",
      "pl.title('Output Power vs Pump Power')\n",
      "pl.plot(PPrange, Toc.subs(v) * Pstrange, r'b-');\n",
      "pl.plot([PPthreshold, PPrange[-1]], [0, rho0 * (PPrange[-1] - PPthreshold)],\n",
      "        r'k--')\n",
      "pl.xlabel('Pump Power (W)');\n",
      "pl.ylabel('Output Power (W)', color='b');\n",
      "ax2 = ax1.twinx()\n",
      "ax2.plot(PPrange, Pstrange * (TR / EsatA).subs(v), r'r-')\n",
      "ax2.set_ylabel('S-Parameter (1)', va='bottom', rotation=270, color='r');"
     ],
     "language": "python",
     "metadata": {},
     "outputs": [
      {
       "metadata": {},
       "output_type": "display_data",
       "png": "[encoded data removed]",
       "text": [
        "<matplotlib.figure.Figure at 0x7f82ab0e4320>"
       ]
      }
     ],
     "prompt_number": 4
    },
    {
     "cell_type": "markdown",
     "metadata": {},
     "source": [
      "The plot shows that the laser operates far above the lasing threshold. A comparison to a straight line (dashed) shows that the slope efficiency increases at higher power due to stronger bleaching of the absorber (i.e. lower losses).\n",
      "\n",
      "Apparently, the saturable absorber is not saturated very strongly as $S$ remains $<1$."
     ]
    }
   ],
   "metadata": {}
  }
 ]
}