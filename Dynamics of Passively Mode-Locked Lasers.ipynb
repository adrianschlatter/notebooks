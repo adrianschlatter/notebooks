{
 "metadata": {
  "name": "",
  "signature": "sha256:3c36e2f1c62cd0634f6c80298f0a8cfc74d02da87b7b8c0496cefcb751155489"
 },
 "nbformat": 3,
 "nbformat_minor": 0,
 "worksheets": [
  {
   "cells": [
    {
     "cell_type": "markdown",
     "metadata": {},
     "source": [
      "Lasers passively mode-locked by means of saturable absorbers have a tendency to Q-switched mode-locking (QML). Usually, this is not the desired mode of operation and has to be avoided by careful design. This is not always easy, especially not for the low pulse energies typically associatedd with very high pulse-repetition rates.\n",
      "\n",
      "In the following, I summarize the dynamics of such a laser and show the criterion for stable mode locking (i.e. not QML).\n",
      "\n",
      "# Laser Dynamics\n",
      "\n",
      "The following differential equation describes the dynamics of a passively mode-locked (see, e.g., [C. H\u00f6nninger et al., J. Opt. Soc. Am. B/Vol. 16, No. 1, 1999] [honninger1999]):\n",
      "\n",
      "$$\\begin{align*}\n",
      "\\dot{P} &= \\frac{g - l - q_P(S)}{T_R} P \\\\\n",
      "\\dot{g} &= -\\frac{g}{\\tau_L} + \\frac{\\eta \\cdot P_P}{E_{sat,L}} - \\frac{P \\cdot g}{E_{sat,L}} \\\\\n",
      "q_P(S) &= \\frac{\\Delta R}{S} \\left(1 - e^{-S} \\right)\n",
      "\\end{align*}$$,\n",
      "\n",
      "where $S = \\frac{E_P}{E_{sat,A}} = \\frac{P \\cdot T_R}{E_{sat,A}}$.\n",
      "\n",
      "Let's set this up in sympy but let's - for the time being - ignore that $q_P$ is a function of $P(t)$:\n",
      "\n",
      "[honninger1999]: http://www.ulp.ethz.ch/content/dam/ethz/special-interest/phys/quantum-electronics/ultrafast-laser-physics-dam/research/Overview2005/90.pdf"
     ]
    },
    {
     "cell_type": "code",
     "collapsed": false,
     "input": [
      "import sympy as sym\n",
      "sym.init_printing(use_latex='mathjax')\n",
      "\n",
      "# Variables\n",
      "P, g, PP, qP = sym.symbols('P g P_P q_P', real=True)\n",
      "l = sym.symbols('l', real=True)\n",
      "DR = sym.Symbol('\\Delta R', real=True)\n",
      "EsatL, tauL, TR, eta, EsatA = sym.symbols('E_{satL} tau_L T_R eta E_{satA}',\n",
      "                                          real=True)\n",
      "\n",
      "# Differential Equations\n",
      "laserEq = [sym.Eq((g - l - qP) / TR * P),\n",
      "           sym.Eq(-g / tauL + eta * PP / EsatL - P * g / EsatL)]\n",
      "laserEq"
     ],
     "language": "python",
     "metadata": {},
     "outputs": [
      {
       "latex": [
        "$$\\left [ \\frac{P}{T_{R}} \\left(g - l - q_{P}\\right) = 0, \\quad - \\frac{g}{\\tau_{L}} - \\frac{P g}{E_{{satL}}} + \\frac{P_{P} \\eta}{E_{{satL}}} = 0\\right ]$$"
       ],
       "metadata": {},
       "output_type": "pyout",
       "prompt_number": 2,
       "text": [
        "\u23a1P\u22c5(g - l - q_P)         g      P\u22c5g       P_P\u22c5\u03b7      \u23a4\n",
        "\u23a2\u2500\u2500\u2500\u2500\u2500\u2500\u2500\u2500\u2500\u2500\u2500\u2500\u2500\u2500\u2500 = 0, - \u2500\u2500\u2500 - \u2500\u2500\u2500\u2500\u2500\u2500\u2500\u2500 + \u2500\u2500\u2500\u2500\u2500\u2500\u2500\u2500 = 0\u23a5\n",
        "\u23a3      T_R              \u03c4_L   E_{satL}   E_{satL}    \u23a6"
       ]
      }
     ],
     "prompt_number": 2
    },
    {
     "cell_type": "markdown",
     "metadata": {},
     "source": [
      "# Steady-State\n",
      "\n",
      "Next, we linearize these equations around their steady-state. The steady-state gain $g_{st}$ and intra-cavity power $P_{st}$ are:"
     ]
    },
    {
     "cell_type": "code",
     "collapsed": false,
     "input": [
      "PP0 = sym.Symbol('P_{P0}')\n",
      "gst_, Pst_ = sym.solve(laserEq, (g, P))[1]\n",
      "\n",
      "Pst_ = Pst_.subs(PP, PP0)\n",
      "\n",
      "[sym.Eq(sym.Symbol('g_{st}'), gst_),\n",
      " sym.Eq(sym.Symbol('P_{st}'), Pst_.subs(g, sym.Symbol('g_{st}')))]"
     ],
     "language": "python",
     "metadata": {},
     "outputs": [
      {
       "latex": [
        "$$\\left [ g_{{st}} = l + q_{P}, \\quad P_{{st}} = \\frac{1}{\\tau_{L} \\left(l + q_{P}\\right)} \\left(- E_{{satL}} l - E_{{satL}} q_{P} + P_{{P0}} \\eta \\tau_{L}\\right)\\right ]$$"
       ],
       "metadata": {},
       "output_type": "pyout",
       "prompt_number": 3,
       "text": [
        "\u23a1                           -E_{satL}\u22c5l - E_{satL}\u22c5q_P + P_{P0}\u22c5\u03b7\u22c5\u03c4_L\u23a4\n",
        "\u23a2g_{st} = l + q_P, P_{st} = \u2500\u2500\u2500\u2500\u2500\u2500\u2500\u2500\u2500\u2500\u2500\u2500\u2500\u2500\u2500\u2500\u2500\u2500\u2500\u2500\u2500\u2500\u2500\u2500\u2500\u2500\u2500\u2500\u2500\u2500\u2500\u2500\u2500\u2500\u2500\u2500\u2500\u2500\u2500\u2500\u2500\u23a5\n",
        "\u23a3                                         \u03c4_L\u22c5(l + q_P)              \u23a6"
       ]
      }
     ],
     "prompt_number": 3
    },
    {
     "cell_type": "markdown",
     "metadata": {},
     "source": [
      "To determine $q_P$, we multiply the $P_{st}$ equation by $g_{st}$ on both sides and substitute $g_{st}$:"
     ]
    },
    {
     "cell_type": "code",
     "collapsed": false,
     "input": [
      "qPEq = sym.Eq(P * gst_, Pst_ * g)\n",
      "qPEq.subs(P, sym.Symbol('P_{st}'))"
     ],
     "language": "python",
     "metadata": {},
     "outputs": [
      {
       "latex": [
        "$$P_{{st}} \\left(l + q_{P}\\right) = \\frac{g}{\\tau_{L} \\left(l + q_{P}\\right)} \\left(- E_{{satL}} l - E_{{satL}} q_{P} + P_{{P0}} \\eta \\tau_{L}\\right)$$"
       ],
       "metadata": {},
       "output_type": "pyout",
       "prompt_number": 4,
       "text": [
        "                   g\u22c5(-E_{satL}\u22c5l - E_{satL}\u22c5q_P + P_{P0}\u22c5\u03b7\u22c5\u03c4_L)\n",
        "P_{st}\u22c5(l + q_P) = \u2500\u2500\u2500\u2500\u2500\u2500\u2500\u2500\u2500\u2500\u2500\u2500\u2500\u2500\u2500\u2500\u2500\u2500\u2500\u2500\u2500\u2500\u2500\u2500\u2500\u2500\u2500\u2500\u2500\u2500\u2500\u2500\u2500\u2500\u2500\u2500\u2500\u2500\u2500\u2500\u2500\u2500\u2500\u2500\u2500\n",
        "                                   \u03c4_L\u22c5(l + q_P)                "
       ]
      }
     ],
     "prompt_number": 4
    },
    {
     "cell_type": "markdown",
     "metadata": {},
     "source": [
      "Now we re-write both sides as functions of $S$ to obtain an equation for the steady-state $S$ parameter:"
     ]
    },
    {
     "cell_type": "code",
     "collapsed": false,
     "input": [
      "S = sym.symbols('S', real=True)\n",
      "qPEq = qPEq.subs(qP, DR / S * (1 - sym.exp(-S))).subs(P, S * EsatA / TR)\n",
      "sym.simplify(qPEq)"
     ],
     "language": "python",
     "metadata": {},
     "outputs": [
      {
       "latex": [
        "$$\\frac{E_{{satA}}}{T_{R}} \\left(S l e^{S} + \\Delta R \\left(e^{S} - 1\\right)\\right) e^{- S} = - \\frac{g \\left(E_{{satL}} \\Delta R \\left(e^{S} - 1\\right) + S \\left(E_{{satL}} l - P_{{P0}} \\eta \\tau_{L}\\right) e^{S}\\right)}{\\tau_{L} \\left(S l e^{S} + \\Delta R \\left(e^{S} - 1\\right)\\right)}$$"
       ],
       "metadata": {},
       "output_type": "pyout",
       "prompt_number": 5,
       "text": [
        "         \u239b     S            \u239b S    \u239e\u239e  -S      \u239b                  \u239b S    \u239e    \n",
        "E_{satA}\u22c5\u239dS\u22c5l\u22c5\u212f  + \\Delta R\u22c5\u239d\u212f  - 1\u23a0\u23a0\u22c5\u212f     -g\u22c5\u239dE_{satL}\u22c5\\Delta R\u22c5\u239d\u212f  - 1\u23a0 + S\n",
        "\u2500\u2500\u2500\u2500\u2500\u2500\u2500\u2500\u2500\u2500\u2500\u2500\u2500\u2500\u2500\u2500\u2500\u2500\u2500\u2500\u2500\u2500\u2500\u2500\u2500\u2500\u2500\u2500\u2500\u2500\u2500\u2500\u2500\u2500\u2500\u2500\u2500\u2500\u2500\u2500\u2500 = \u2500\u2500\u2500\u2500\u2500\u2500\u2500\u2500\u2500\u2500\u2500\u2500\u2500\u2500\u2500\u2500\u2500\u2500\u2500\u2500\u2500\u2500\u2500\u2500\u2500\u2500\u2500\u2500\u2500\u2500\u2500\u2500\u2500\u2500\n",
        "                   T_R                                            \u239b     S     \n",
        "                                                              \u03c4_L\u22c5\u239dS\u22c5l\u22c5\u212f  + \\D\n",
        "\n",
        "                              S\u239e \n",
        "\u22c5(E_{satL}\u22c5l - P_{P0}\u22c5\u03b7\u22c5\u03c4_L)\u22c5\u212f \u23a0 \n",
        "\u2500\u2500\u2500\u2500\u2500\u2500\u2500\u2500\u2500\u2500\u2500\u2500\u2500\u2500\u2500\u2500\u2500\u2500\u2500\u2500\u2500\u2500\u2500\u2500\u2500\u2500\u2500\u2500\u2500\u2500\u2500\u2500\u2500\n",
        "       \u239b S    \u239e\u239e                 \n",
        "elta R\u22c5\u239d\u212f  - 1\u23a0\u23a0                 "
       ]
      }
     ],
     "prompt_number": 5
    },
    {
     "cell_type": "markdown",
     "metadata": {},
     "source": [
      "Unfortunately, it turns out that this equation is rather hard to solve symbolically:"
     ]
    },
    {
     "cell_type": "code",
     "collapsed": false,
     "input": [
      "sym.solve(qPEq, S)"
     ],
     "language": "python",
     "metadata": {},
     "outputs": [
      {
       "ename": "NotImplementedError",
       "evalue": "multiple generators [S, exp(S)]\nNo algorithms are implemented to solve equation E_{satA}*S*(l + \\Delta R*(1 - exp(-S))/S)/T_R - g*(-E_{satL}*l - E_{satL}*\\Delta R*(1 - exp(-S))/S + P_{P0}*eta*tau_L)/(tau_L*(l + \\Delta R*(1 - exp(-S))/S))",
       "output_type": "pyerr",
       "traceback": [
        "\u001b[0;31m---------------------------------------------------------------------------\u001b[0m\n\u001b[0;31mNotImplementedError\u001b[0m                       Traceback (most recent call last)",
        "\u001b[0;32m<ipython-input-6-c8970a9a2078>\u001b[0m in \u001b[0;36m<module>\u001b[0;34m()\u001b[0m\n\u001b[0;32m----> 1\u001b[0;31m \u001b[0msym\u001b[0m\u001b[0;34m.\u001b[0m\u001b[0msolve\u001b[0m\u001b[0;34m(\u001b[0m\u001b[0mqPEq\u001b[0m\u001b[0;34m,\u001b[0m \u001b[0mS\u001b[0m\u001b[0;34m)\u001b[0m\u001b[0;34m\u001b[0m\u001b[0m\n\u001b[0m",
        "\u001b[0;32m/home/adrian/.local/lib/python3.4/site-packages/sympy/solvers/solvers.py\u001b[0m in \u001b[0;36msolve\u001b[0;34m(f, *symbols, **flags)\u001b[0m\n\u001b[1;32m    907\u001b[0m     \u001b[0;31m###########################################################################\u001b[0m\u001b[0;34m\u001b[0m\u001b[0;34m\u001b[0m\u001b[0m\n\u001b[1;32m    908\u001b[0m     \u001b[0;32mif\u001b[0m \u001b[0mbare_f\u001b[0m\u001b[0;34m:\u001b[0m\u001b[0;34m\u001b[0m\u001b[0m\n\u001b[0;32m--> 909\u001b[0;31m         \u001b[0msolution\u001b[0m \u001b[0;34m=\u001b[0m \u001b[0m_solve\u001b[0m\u001b[0;34m(\u001b[0m\u001b[0mf\u001b[0m\u001b[0;34m[\u001b[0m\u001b[0;36m0\u001b[0m\u001b[0;34m]\u001b[0m\u001b[0;34m,\u001b[0m \u001b[0;34m*\u001b[0m\u001b[0msymbols\u001b[0m\u001b[0;34m,\u001b[0m \u001b[0;34m**\u001b[0m\u001b[0mflags\u001b[0m\u001b[0;34m)\u001b[0m\u001b[0;34m\u001b[0m\u001b[0m\n\u001b[0m\u001b[1;32m    910\u001b[0m     \u001b[0;32melse\u001b[0m\u001b[0;34m:\u001b[0m\u001b[0;34m\u001b[0m\u001b[0m\n\u001b[1;32m    911\u001b[0m         \u001b[0msolution\u001b[0m \u001b[0;34m=\u001b[0m \u001b[0m_solve_system\u001b[0m\u001b[0;34m(\u001b[0m\u001b[0mf\u001b[0m\u001b[0;34m,\u001b[0m \u001b[0msymbols\u001b[0m\u001b[0;34m,\u001b[0m \u001b[0;34m**\u001b[0m\u001b[0mflags\u001b[0m\u001b[0;34m)\u001b[0m\u001b[0;34m\u001b[0m\u001b[0m\n",
        "\u001b[0;32m/home/adrian/.local/lib/python3.4/site-packages/sympy/solvers/solvers.py\u001b[0m in \u001b[0;36m_solve\u001b[0;34m(f, *symbols, **flags)\u001b[0m\n\u001b[1;32m   1412\u001b[0m     \u001b[0;32mif\u001b[0m \u001b[0mresult\u001b[0m \u001b[0;32mis\u001b[0m \u001b[0;32mFalse\u001b[0m\u001b[0;34m:\u001b[0m\u001b[0;34m\u001b[0m\u001b[0m\n\u001b[1;32m   1413\u001b[0m         raise NotImplementedError(msg +\n\u001b[0;32m-> 1414\u001b[0;31m         \"\\nNo algorithms are implemented to solve equation %s\" % f)\n\u001b[0m\u001b[1;32m   1415\u001b[0m \u001b[0;34m\u001b[0m\u001b[0m\n\u001b[1;32m   1416\u001b[0m     \u001b[0;32mif\u001b[0m \u001b[0mflags\u001b[0m\u001b[0;34m.\u001b[0m\u001b[0mget\u001b[0m\u001b[0;34m(\u001b[0m\u001b[0;34m'simplify'\u001b[0m\u001b[0;34m,\u001b[0m \u001b[0;32mTrue\u001b[0m\u001b[0;34m)\u001b[0m\u001b[0;34m:\u001b[0m\u001b[0;34m\u001b[0m\u001b[0m\n",
        "\u001b[0;31mNotImplementedError\u001b[0m: multiple generators [S, exp(S)]\nNo algorithms are implemented to solve equation E_{satA}*S*(l + \\Delta R*(1 - exp(-S))/S)/T_R - g*(-E_{satL}*l - E_{satL}*\\Delta R*(1 - exp(-S))/S + P_{P0}*eta*tau_L)/(tau_L*(l + \\Delta R*(1 - exp(-S))/S))"
       ]
      }
     ],
     "prompt_number": 6
    },
    {
     "cell_type": "markdown",
     "metadata": {},
     "source": [
      "# Linearization\n",
      "\n",
      "Next, we rewrite the laser equations in terms of deviations from the steady-state:\n",
      "\n",
      "$$\\begin{align*}\n",
      "P &= P_{st} + \\delta P \\\\\n",
      "g &= g_{st} + \\delta g \\\\\n",
      "P_P &= P_{P,0} + \\delta P_P\n",
      "\\end{align*}$$"
     ]
    },
    {
     "cell_type": "code",
     "collapsed": false,
     "input": [
      "dP = sym.Symbol('\\delta P', real=True)\n",
      "dg = sym.Symbol('\\delta g', real=True)\n",
      "dPP = sym.Symbol('\\delta P_P', real=True)\n",
      "dqPdEP = sym.Symbol(\"q'_P\", real=True)\n",
      "Pst, gst = sym.symbols('P_{st} g_{st}', real=True)\n",
      "\n",
      "deviationEq = ['', '']\n",
      "deviationEq[0] = sym.Eq(sym.Symbol('\\delta Pdot'), laserEq[0].lhs)\n",
      "deviationEq[1] = sym.Eq(sym.Symbol('\\delta gdot'), laserEq[1].lhs)\n",
      "\n",
      "deviationEq = [eq.subs([(P, Pst + dP),\n",
      "                        (g, gst + dg),\n",
      "                        (PP, PP0 + dPP),\n",
      "                        (qP, qP + dP * TR * dqPdEP)]) for eq in deviationEq]\n",
      "sym.simplify(deviationEq)"
     ],
     "language": "python",
     "metadata": {},
     "outputs": [
      {
       "latex": [
        "$$\\left [ \\dot{\\delta P} = \\frac{1}{T_{R}} \\left(P_{{st}} + \\delta P\\right) \\left(- T_{R} \\delta P q'_{P} + \\delta g + g_{{st}} - l - q_{P}\\right), \\quad \\dot{\\delta g} = - \\frac{1}{\\tau_{L}} \\left(\\delta g + g_{{st}}\\right) + \\frac{\\eta}{E_{{satL}}} \\left(P_{{P0}} + \\delta P_{P}\\right) - \\frac{1}{E_{{satL}}} \\left(P_{{st}} + \\delta P\\right) \\left(\\delta g + g_{{st}}\\right)\\right ]$$"
       ],
       "metadata": {},
       "output_type": "pyout",
       "prompt_number": 7,
       "text": [
        "\u23a1            (P_{st} + \\delta P)\u22c5(-T_R\u22c5\\delta P\u22c5q'_P + \\delta g + g_{st} - l -\n",
        "\u23a2\\delta P\u0307 = \u2500\u2500\u2500\u2500\u2500\u2500\u2500\u2500\u2500\u2500\u2500\u2500\u2500\u2500\u2500\u2500\u2500\u2500\u2500\u2500\u2500\u2500\u2500\u2500\u2500\u2500\u2500\u2500\u2500\u2500\u2500\u2500\u2500\u2500\u2500\u2500\u2500\u2500\u2500\u2500\u2500\u2500\u2500\u2500\u2500\u2500\u2500\u2500\u2500\u2500\u2500\u2500\u2500\u2500\u2500\u2500\u2500\u2500\u2500\u2500\u2500\u2500\u2500\u2500\u2500\n",
        "\u23a3                                             T_R                             \n",
        "\n",
        " q_P)                \\delta g + g_{st}   \u03b7\u22c5(P_{P0} + \\delta P_P)   (P_{st} + \\\n",
        "\u2500\u2500\u2500\u2500\u2500, \\delta g\u0307 = - \u2500\u2500\u2500\u2500\u2500\u2500\u2500\u2500\u2500\u2500\u2500\u2500\u2500\u2500\u2500\u2500\u2500 + \u2500\u2500\u2500\u2500\u2500\u2500\u2500\u2500\u2500\u2500\u2500\u2500\u2500\u2500\u2500\u2500\u2500\u2500\u2500\u2500\u2500\u2500\u2500 - \u2500\u2500\u2500\u2500\u2500\u2500\u2500\u2500\u2500\u2500\u2500\n",
        "                            \u03c4_L                  E_{satL}                     \n",
        "\n",
        "delta P)\u22c5(\\delta g + g_{st})\u23a4\n",
        "\u2500\u2500\u2500\u2500\u2500\u2500\u2500\u2500\u2500\u2500\u2500\u2500\u2500\u2500\u2500\u2500\u2500\u2500\u2500\u2500\u2500\u2500\u2500\u2500\u2500\u2500\u2500\u2500\u23a5\n",
        "     E_{satL}               \u23a6"
       ]
      }
     ],
     "prompt_number": 7
    },
    {
     "cell_type": "markdown",
     "metadata": {},
     "source": [
      "Next, we drop all higher order term. Unfortunately, sympy does not (yet?) support multivariate series expansion. Therefore, we solve the problem by introducing a helper variable $\\delta x$ which is subsequently dropped."
     ]
    },
    {
     "cell_type": "code",
     "collapsed": false,
     "input": [
      "dx = sym.Symbol('\\delta x', real=True)\n",
      "lin = [eq.rhs for eq in deviationEq]\n",
      "lin = [expr.subs([(dg, dg * dx), (dP, dP * dx)]) for expr in lin]\n",
      "lin = [expr.series(dx, x0=0, n=2).removeO().subs(dx, 1) for expr in lin]\n",
      "lin = [sym.collect(sym.collect(eq, dP), dg) for eq in lin]\n",
      "linEq = [sym.Eq(sym.Symbol('\\delta Pdot'), lin[0]),\n",
      "         sym.Eq(sym.Symbol('\\delta gdot'), lin[1])]\n",
      "linEq"
     ],
     "language": "python",
     "metadata": {},
     "outputs": [
      {
       "latex": [
        "$$\\left [ \\dot{\\delta P} = \\frac{P_{{st}}}{T_{R}} \\delta g + \\frac{P_{{st}} g_{{st}}}{T_{R}} - \\frac{P_{{st}} l}{T_{R}} - \\frac{P_{{st}} q_{P}}{T_{R}} + \\delta P \\left(- P_{{st}} q'_{P} + \\frac{g_{{st}}}{T_{R}} - \\frac{l}{T_{R}} - \\frac{q_{P}}{T_{R}}\\right), \\quad \\dot{\\delta g} = \\delta g \\left(- \\frac{1}{\\tau_{L}} - \\frac{P_{{st}}}{E_{{satL}}}\\right) - \\frac{g_{{st}}}{\\tau_{L}} - \\frac{P_{{st}} g_{{st}}}{E_{{satL}}} - \\frac{\\delta P}{E_{{satL}}} g_{{st}} + \\frac{\\eta}{E_{{satL}}} \\left(P_{{P0}} + \\delta P_{P}\\right)\\right ]$$"
       ],
       "metadata": {},
       "output_type": "pyout",
       "prompt_number": 8,
       "text": [
        "\u23a1            P_{st}\u22c5\\delta g   P_{st}\u22c5g_{st}   P_{st}\u22c5l   P_{st}\u22c5q_P          \n",
        "\u23a2\\delta P\u0307 = \u2500\u2500\u2500\u2500\u2500\u2500\u2500\u2500\u2500\u2500\u2500\u2500\u2500\u2500\u2500 + \u2500\u2500\u2500\u2500\u2500\u2500\u2500\u2500\u2500\u2500\u2500\u2500\u2500 - \u2500\u2500\u2500\u2500\u2500\u2500\u2500\u2500 - \u2500\u2500\u2500\u2500\u2500\u2500\u2500\u2500\u2500\u2500 + \\delta \n",
        "\u23a3                  T_R              T_R          T_R         T_R              \n",
        "\n",
        "  \u239b               g_{st}    l    q_P\u239e                       \u239b   1     P_{st} \u239e\n",
        "P\u22c5\u239c-P_{st}\u22c5q'_P + \u2500\u2500\u2500\u2500\u2500\u2500 - \u2500\u2500\u2500 - \u2500\u2500\u2500\u239f, \\delta g\u0307 = \\delta g\u22c5\u239c- \u2500\u2500\u2500 - \u2500\u2500\u2500\u2500\u2500\u2500\u2500\u2500\u239f\n",
        "  \u239d                T_R     T_R   T_R\u23a0                       \u239d  \u03c4_L   E_{satL}\u23a0\n",
        "\n",
        "   g_{st}   P_{st}\u22c5g_{st}   \\delta P\u22c5g_{st}   \u03b7\u22c5(P_{P0} + \\delta P_P)\u23a4\n",
        " - \u2500\u2500\u2500\u2500\u2500\u2500 - \u2500\u2500\u2500\u2500\u2500\u2500\u2500\u2500\u2500\u2500\u2500\u2500\u2500 - \u2500\u2500\u2500\u2500\u2500\u2500\u2500\u2500\u2500\u2500\u2500\u2500\u2500\u2500\u2500 + \u2500\u2500\u2500\u2500\u2500\u2500\u2500\u2500\u2500\u2500\u2500\u2500\u2500\u2500\u2500\u2500\u2500\u2500\u2500\u2500\u2500\u2500\u2500\u23a5\n",
        "    \u03c4_L        E_{satL}         E_{satL}              E_{satL}       \u23a6"
       ]
      }
     ],
     "prompt_number": 8
    },
    {
     "cell_type": "markdown",
     "metadata": {},
     "source": [
      "There we are. However, this does not look linear. There seem to be unexpected constant terms. It turns out that these are zero due to the steady-state condition:"
     ]
    },
    {
     "cell_type": "code",
     "collapsed": false,
     "input": [
      "# Replace steady-state symbols with their corresponding expressions:\n",
      "linEq[0] = sym.simplify(linEq[0].subs(gst, gst_))\n",
      "linEq[1] = linEq[1].subs([(Pst, Pst_), (gst, gst_)])\n",
      "\n",
      "# Rewrite in steady-state symbols for clarity:\n",
      "linEq[1] = linEq[1].subs(PP0, sym.solve(sym.Eq(Pst, Pst_), PP0)[0])\n",
      "linEq[1] = linEq[1].subs(l, sym.solve(sym.Eq(gst, gst_), l)[0])\n",
      "linEq[1] = sym.simplify(linEq[1])\n",
      "\n",
      "linEq"
     ],
     "language": "python",
     "metadata": {},
     "outputs": [
      {
       "latex": [
        "$$\\left [ \\dot{\\delta P} = \\frac{P_{{st}}}{T_{R}} \\left(- T_{R} \\delta P q'_{P} + \\delta g\\right), \\quad \\dot{\\delta g} = - \\frac{\\delta g}{\\tau_{L}} - \\frac{P_{{st}}}{E_{{satL}}} \\delta g - \\frac{\\delta P}{E_{{satL}}} g_{{st}} + \\frac{\\delta P_{P}}{E_{{satL}}} \\eta\\right ]$$"
       ],
       "metadata": {},
       "output_type": "pyout",
       "prompt_number": 9,
       "text": [
        "\u23a1            P_{st}\u22c5(-T_R\u22c5\\delta P\u22c5q'_P + \\delta g)                \\delta g   \n",
        "\u23a2\\delta P\u0307 = \u2500\u2500\u2500\u2500\u2500\u2500\u2500\u2500\u2500\u2500\u2500\u2500\u2500\u2500\u2500\u2500\u2500\u2500\u2500\u2500\u2500\u2500\u2500\u2500\u2500\u2500\u2500\u2500\u2500\u2500\u2500\u2500\u2500\u2500\u2500\u2500\u2500\u2500, \\delta g\u0307 = - \u2500\u2500\u2500\u2500\u2500\u2500\u2500\u2500 - \n",
        "\u23a3                             T_R                                    \u03c4_L      \n",
        "\n",
        "P_{st}\u22c5\\delta g   \\delta P\u22c5g_{st}   \\delta P_P\u22c5\u03b7\u23a4\n",
        "\u2500\u2500\u2500\u2500\u2500\u2500\u2500\u2500\u2500\u2500\u2500\u2500\u2500\u2500\u2500 - \u2500\u2500\u2500\u2500\u2500\u2500\u2500\u2500\u2500\u2500\u2500\u2500\u2500\u2500\u2500 + \u2500\u2500\u2500\u2500\u2500\u2500\u2500\u2500\u2500\u2500\u2500\u2500\u23a5\n",
        "    E_{satL}          E_{satL}        E_{satL}  \u23a6"
       ]
      }
     ],
     "prompt_number": 9
    },
    {
     "cell_type": "markdown",
     "metadata": {},
     "source": [
      "Now, we can rewrite this in handy matrix-notation in state-space form as follows:"
     ]
    },
    {
     "cell_type": "code",
     "collapsed": false,
     "input": [
      "A = sym.zeros(2, 2)\n",
      "for i in range(2):\n",
      "    for j in range(2):\n",
      "        col = [dP, dg][j]\n",
      "        A[i, j] = sym.collect(linEq[i].rhs.expand(), col, evaluate=False)[col]\n",
      "\n",
      "B = sym.zeros(2, 1)\n",
      "for i in range(2):\n",
      "    try:\n",
      "        B[i, 0] = sym.collect(linEq[i].rhs.expand(), dPP, evaluate=False)[dPP]\n",
      "    except KeyError:\n",
      "        B[i, 0] = 0\n",
      "\n",
      "x = sym.MatrixSymbol('x', 2, 1)\n",
      "u = sym.MatrixSymbol('u', 1, 1)\n",
      "\n",
      "stateEq = sym.Eq(sym.MatrixSymbol('xdot', 2, 1), A * x + B * u)\n",
      "stateEq"
     ],
     "language": "python",
     "metadata": {},
     "outputs": [
      {
       "latex": [
        "$$\\dot{x} = \\left[\\begin{matrix}0\\\\\\frac{\\eta}{E_{{satL}}}\\end{matrix}\\right] u + \\left[\\begin{matrix}- P_{{st}} q'_{P} & \\frac{P_{{st}}}{T_{R}}\\\\- \\frac{g_{{st}}}{E_{{satL}}} & - \\frac{1}{\\tau_{L}} - \\frac{P_{{st}}}{E_{{satL}}}\\end{matrix}\\right] x$$"
       ],
       "metadata": {},
       "output_type": "pyout",
       "prompt_number": 10,
       "text": [
        "                    \u23a1                   P_{st}     \u23a4  \n",
        "x\u0307 = \u23a1   0    \u23a4\u22c5u + \u23a2-P_{st}\u22c5q'_P       \u2500\u2500\u2500\u2500\u2500\u2500     \u23a5\u22c5x\n",
        "     \u23a2        \u23a5     \u23a2                    T_R       \u23a5  \n",
        "     \u23a2   \u03b7    \u23a5     \u23a2                              \u23a5  \n",
        "     \u23a2\u2500\u2500\u2500\u2500\u2500\u2500\u2500\u2500\u23a5     \u23a2  -g_{st}        1     P_{st} \u23a5  \n",
        "     \u23a3E_{satL}\u23a6     \u23a2  \u2500\u2500\u2500\u2500\u2500\u2500\u2500\u2500    - \u2500\u2500\u2500 - \u2500\u2500\u2500\u2500\u2500\u2500\u2500\u2500\u23a5  \n",
        "                    \u23a3  E_{satL}      \u03c4_L   E_{satL}\u23a6  "
       ]
      }
     ],
     "prompt_number": 10
    },
    {
     "cell_type": "markdown",
     "metadata": {},
     "source": [
      "where $\\vec{x} = \\left[ \\delta P, \\delta g \\right]^T$ and $\\vec u = [\\delta P_P]$. And to be complete, we add the output equation:"
     ]
    },
    {
     "cell_type": "code",
     "collapsed": false,
     "input": [
      "y = sym.MatrixSymbol('y', 1, 1)\n",
      "Toc = sym.Symbol('T_{oc}', real=True)\n",
      "C = sym.Matrix([[Toc, 0]])\n",
      "outputEq = sym.Eq(y, C*x)\n",
      "outputEq"
     ],
     "language": "python",
     "metadata": {},
     "outputs": [
      {
       "latex": [
        "$$y = \\left[\\begin{matrix}T_{{oc}} & 0\\end{matrix}\\right] x$$"
       ],
       "metadata": {},
       "output_type": "pyout",
       "prompt_number": 11,
       "text": [
        "y = [T_{oc}  0]\u22c5x"
       ]
      }
     ],
     "prompt_number": 11
    },
    {
     "cell_type": "markdown",
     "metadata": {},
     "source": [
      "where $\\vec y$ is $\\left[ P_{out} \\right]$."
     ]
    },
    {
     "cell_type": "markdown",
     "metadata": {},
     "source": [
      "# Stability\n",
      "\n",
      "It is now straightforward to discuss the stability of the system at its steady-state. The system is stable if the eigenvalue of $A$ all are in the left half of the complex plane. The eigenvalues of a 2 x 2 matrix\n",
      "\n",
      "$$\n",
      "\\left( \\begin{array}{ccc}\n",
      "\\alpha & \\beta \\\\\n",
      "-\\gamma & -\\epsilon\n",
      "\\end{array} \\right)\n",
      "$$\n",
      "\n",
      "are:"
     ]
    },
    {
     "cell_type": "code",
     "collapsed": false,
     "input": [
      "alpha, beta, gamma, epsilon = sym.symbols('alpha beta gamma epsilon', real=True)\n",
      "M = sym.Matrix([[alpha, beta], [-gamma, -epsilon]])\n",
      "M.eigenvals()"
     ],
     "language": "python",
     "metadata": {},
     "outputs": [
      {
       "latex": [
        "$$\\left \\{ \\frac{\\alpha}{2} - \\frac{\\epsilon}{2} - \\frac{1}{2} \\sqrt{\\alpha^{2} + 2 \\alpha \\epsilon - 4 \\beta \\gamma + \\epsilon^{2}} : 1, \\quad \\frac{\\alpha}{2} - \\frac{\\epsilon}{2} + \\frac{1}{2} \\sqrt{\\alpha^{2} + 2 \\alpha \\epsilon - 4 \\beta \\gamma + \\epsilon^{2}} : 1\\right \\}$$"
       ],
       "metadata": {},
       "output_type": "pyout",
       "prompt_number": 12,
       "text": [
        "\u23a7           _________________________                _________________________\n",
        "\u23aa          \u2571  2                    2                \u2571  2                    2 \n",
        "\u23a8\u03b1   \u03b5   \u2572\u2571  \u03b1  + 2\u22c5\u03b1\u22c5\u03b5 - 4\u22c5\u03b2\u22c5\u03b3 + \u03b5       \u03b1   \u03b5   \u2572\u2571  \u03b1  + 2\u22c5\u03b1\u22c5\u03b5 - 4\u22c5\u03b2\u22c5\u03b3 + \u03b5  \n",
        "\u23aa\u2500 - \u2500 - \u2500\u2500\u2500\u2500\u2500\u2500\u2500\u2500\u2500\u2500\u2500\u2500\u2500\u2500\u2500\u2500\u2500\u2500\u2500\u2500\u2500\u2500\u2500\u2500\u2500\u2500\u2500\u2500: 1, \u2500 - \u2500 + \u2500\u2500\u2500\u2500\u2500\u2500\u2500\u2500\u2500\u2500\u2500\u2500\u2500\u2500\u2500\u2500\u2500\u2500\u2500\u2500\u2500\u2500\u2500\u2500\u2500\u2500\u2500\u2500\n",
        "\u23a92   2                2                   2   2                2              \n",
        "\n",
        "   \u23ab\n",
        "   \u23aa\n",
        "   \u23ac\n",
        ": 1\u23aa\n",
        "   \u23ad"
       ]
      }
     ],
     "prompt_number": 12
    },
    {
     "cell_type": "markdown",
     "metadata": {},
     "source": [
      "In the case of solid-state lasers, the radicand is negative, leading to relaxation _oscillations_. If $\\alpha - \\epsilon < 0$, these oscillations are damped, and the laser is stably mode locking. This conditions translates to"
     ]
    },
    {
     "cell_type": "code",
     "collapsed": false,
     "input": [
      "A[0, 0] + A[1, 1] < 0"
     ],
     "language": "python",
     "metadata": {},
     "outputs": [
      {
       "latex": [
        "$$- P_{{st}} q'_{P} - \\frac{1}{\\tau_{L}} - \\frac{P_{{st}}}{E_{{satL}}} < 0$$"
       ],
       "metadata": {},
       "output_type": "pyout",
       "prompt_number": 13,
       "text": [
        "                1     P_{st}     \n",
        "-P_{st}\u22c5q'_P - \u2500\u2500\u2500 - \u2500\u2500\u2500\u2500\u2500\u2500\u2500\u2500 < 0\n",
        "               \u03c4_L   E_{satL}    "
       ]
      }
     ],
     "prompt_number": 13
    },
    {
     "cell_type": "markdown",
     "metadata": {},
     "source": [
      "That's it for now. As soon as I understand limits and assumptions in sympy I may add the useful simplification for strongly saturated absorbers. The result will be:\n",
      "\n",
      "$$ E_P^2 > E_{satL} E_{satA} \\Delta R $$"
     ]
    }
   ],
   "metadata": {}
  }
 ]
}