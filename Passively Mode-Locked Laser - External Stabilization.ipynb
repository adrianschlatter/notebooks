{
 "metadata": {
  "name": "",
  "signature": "sha256:f3e75dc1c00cd3c7cb51c52e09594e14d2c2bdd40824d771eb54ac792ee2a7ec"
 },
 "nbformat": 3,
 "nbformat_minor": 0,
 "worksheets": [
  {
   "cells": [
    {
     "cell_type": "markdown",
     "metadata": {},
     "source": [
      "# Active Suppression of QML\n",
      "\n",
      "Instead of designing the laser for stable mode-locking, we want to investigate how we could apply state feedback to the pump power to stabilize it.\n",
      "\n",
      "We start from [linearized laser-dynamics] [linearized]:\n",
      "\n",
      "[linearized]: ./Passively%20Mode-Locked%20Laser%20-%20Steady-State%20Dynamics.ipynb"
     ]
    },
    {
     "cell_type": "code",
     "collapsed": false,
     "input": [
      "from IPython.display import display\n",
      "import sympy as sym\n",
      "sym.init_printing(use_latex='mathjax')\n",
      "w0, zeta, rho, Toc = sym.symbols('omega_0 zeta rho T_{oc}', real=True)\n",
      "x = sym.MatrixSymbol('x', 2, 1)\n",
      "xdot = sym.MatrixSymbol('xdot', 2, 1)\n",
      "u = sym.MatrixSymbol('u', 1, 1)\n",
      "\n",
      "A = sym.Matrix([[-2 * w0 * zeta, -w0],\n",
      "                [w0, 0, ]])\n",
      "B = sym.Matrix([[rho * w0],\n",
      "                [0]])\n",
      "xdot_ = sym.Eq(xdot, A * x + B * u)\n",
      "xdot_"
     ],
     "language": "python",
     "metadata": {},
     "outputs": [
      {
       "latex": [
        "$$\\dot{x} = \\left[\\begin{matrix}\\omega_{0} \\rho\\\\0\\end{matrix}\\right] u + \\left[\\begin{matrix}- 2 \\omega_{0} \\zeta & - \\omega_{0}\\\\\\omega_{0} & 0\\end{matrix}\\right] x$$"
       ],
       "metadata": {},
       "output_type": "pyout",
       "prompt_number": 1,
       "text": [
        "x\u0307 = \u23a1\u03c9\u2080\u22c5\u03c1\u23a4\u22c5u + \u23a1-2\u22c5\u03c9\u2080\u22c5\u03b6  -\u03c9\u2080\u23a4\u22c5x\n",
        "     \u23a2    \u23a5     \u23a2            \u23a5  \n",
        "     \u23a3 0  \u23a6     \u23a3  \u03c9\u2080      0 \u23a6  "
       ]
      }
     ],
     "prompt_number": 1
    },
    {
     "cell_type": "markdown",
     "metadata": {},
     "source": [
      "where\n",
      "\n",
      "$ \\vec{x} = \\left[ \\begin{array}{ccc}\n",
      "\\delta \\dot{P}  / \\omega_0 \\\\\n",
      "\\delta P\n",
      "\\end{array}\\right] $ and  $ u = \\left[ \\delta P_P \\right] $. $\\rho$ is the slope efficiency, $\\omega_0$ is the natural frequency, and $\\zeta$ is the damping ratio of the system.\n",
      "\n",
      "The output equation is chosen such that it provides the normal output (i.e. $\\delta P_{out}$) and additionally the full state:"
     ]
    },
    {
     "cell_type": "code",
     "collapsed": false,
     "input": [
      "y = sym.MatrixSymbol('y', 3, 1)\n",
      "C = sym.Matrix([[0, Toc],\n",
      "                [1, 0],\n",
      "                [0, 1]])\n",
      "y_ = sym.Eq(y, C * x)\n",
      "y_"
     ],
     "language": "python",
     "metadata": {},
     "outputs": [
      {
       "latex": [
        "$$y = \\left[\\begin{matrix}0 & T_{{oc}}\\\\1 & 0\\\\0 & 1\\end{matrix}\\right] x$$"
       ],
       "metadata": {},
       "output_type": "pyout",
       "prompt_number": 2,
       "text": [
        "y = \u23a10  T_{oc}\u23a4\u22c5x\n",
        "    \u23a2         \u23a5  \n",
        "    \u23a21    0   \u23a5  \n",
        "    \u23a2         \u23a5  \n",
        "    \u23a30    1   \u23a6  "
       ]
      }
     ],
     "prompt_number": 2
    },
    {
     "cell_type": "markdown",
     "metadata": {},
     "source": [
      "where $T_{oc}$ is the output-coupling ratio."
     ]
    },
    {
     "cell_type": "markdown",
     "metadata": {},
     "source": [
      "# Pole Placement\n",
      "\n",
      "<img src=\"StateFeedback.jpg\" width=\"60%\">\n",
      "(figure from \u00c5str\u00f6m & Murray, <a href=\"http://www.cds.caltech.edu/~murray/books/AM05/pdf/am08-complete_22Feb09.pdf\">\"Feedback Systems\"</a>, figure 6.5)\n",
      "\n",
      "Now we apply feedback (almost) as shown in the figure. This means that\n",
      "\n",
      "$ u = k_r \\cdot r - K \\cdot \\vec{y} $\n",
      "\n",
      "where $r$ is the control signal, $k_r$ is a constant, and $K = \\left[0, k_1, k_2 \\right]$ is the feedback matrix. Inserting this into the state equations yields:\n",
      "\n",
      "$ \\dot{\\vec{x}} = (A - B K C) \\vec{x} + B k_r r $\n",
      "\n",
      "which is a new system $\\dot{\\vec{x}} = A' \\vec{x} + B' r$ with\n",
      "\n",
      "$ \\begin{align*}\n",
      "A' &= A - B K C \\\\\n",
      "B' &= B k_r\n",
      "\\end{align*} $"
     ]
    },
    {
     "cell_type": "code",
     "collapsed": false,
     "input": [
      "kr = sym.Symbol('k_r')\n",
      "r = sym.MatrixSymbol('r', 1, 1)\n",
      "Ap = sym.MatrixSymbol(\"A'\", 2, 2)\n",
      "Bp = sym.MatrixSymbol(\"B'\", 2, 1)\n",
      "\n",
      "k1, k2 = sym.symbols('k_1 k_2', real=True)\n",
      "K = sym.Matrix([[0, k1, k2]])\n",
      "\n",
      "Ap_ = sym.Eq(Ap, A - B * K * C)\n",
      "Bp_ = sym.Eq(Bp, B * kr)\n",
      "\n",
      "display(Ap_, Bp_)"
     ],
     "language": "python",
     "metadata": {},
     "outputs": [
      {
       "latex": [
        "$$A' = \\left[\\begin{matrix}- k_{1} \\omega_{0} \\rho - 2 \\omega_{0} \\zeta & - k_{2} \\omega_{0} \\rho - \\omega_{0}\\\\\\omega_{0} & 0\\end{matrix}\\right]$$"
       ],
       "metadata": {},
       "output_type": "display_data",
       "text": [
        "A' = \u23a1-k\u2081\u22c5\u03c9\u2080\u22c5\u03c1 - 2\u22c5\u03c9\u2080\u22c5\u03b6  -k\u2082\u22c5\u03c9\u2080\u22c5\u03c1 - \u03c9\u2080\u23a4\n",
        "     \u23a2                                \u23a5\n",
        "     \u23a3       \u03c9\u2080                0      \u23a6"
       ]
      },
      {
       "latex": [
        "$$B' = \\left[\\begin{matrix}k_{r} \\omega_{0} \\rho\\\\0\\end{matrix}\\right]$$"
       ],
       "metadata": {},
       "output_type": "display_data",
       "text": [
        "B' = \u23a1k\u1d63\u22c5\u03c9\u2080\u22c5\u03c1\u23a4\n",
        "     \u23a2       \u23a5\n",
        "     \u23a3   0   \u23a6"
       ]
      }
     ],
     "prompt_number": 3
    },
    {
     "cell_type": "markdown",
     "metadata": {},
     "source": [
      "Our goal is to  to choose $K$ so as to obtain arbitrary poles in the new system. The eigenvalues of $A'$ are:"
     ]
    },
    {
     "cell_type": "code",
     "collapsed": false,
     "input": [
      "ev = Ap_.rhs.eigenvects()\n",
      "vals = [v[0] for v in ev]\n",
      "\n",
      "gamma = sym.Symbol(\"\\gamma\", real=True)\n",
      "gamma_ = sym.Eq(gamma, k1 * rho / 2 + zeta)\n",
      "\n",
      "nu = sym.Symbol('\\\\nu', real=True)\n",
      "nu_ = sym.Eq(nu, (k1 * rho)**2 / 4 + rho * (k1 * zeta - k2) + zeta**2 - 1)\n",
      "\n",
      "vals = [sym.simplify(v.subs([(k2, sym.solve(nu_, k2)[0]),\n",
      "                             (zeta, sym.solve(gamma_, zeta)[0])]))\n",
      "                                                            for v in vals]\n",
      "display(*vals)"
     ],
     "language": "python",
     "metadata": {},
     "outputs": [
      {
       "latex": [
        "$$- \\gamma \\omega_{0} - \\sqrt{\\nu} \\left\\lvert{\\omega_{0}}\\right\\rvert$$"
       ],
       "metadata": {},
       "output_type": "display_data",
       "text": [
        "               _____     \n",
        "-\\gamma\u22c5\u03c9\u2080 - \u2572\u2571 \\nu \u22c5\u2502\u03c9\u2080\u2502"
       ]
      },
      {
       "latex": [
        "$$- \\gamma \\omega_{0} + \\sqrt{\\nu} \\left\\lvert{\\omega_{0}}\\right\\rvert$$"
       ],
       "metadata": {},
       "output_type": "display_data",
       "text": [
        "               _____     \n",
        "-\\gamma\u22c5\u03c9\u2080 + \u2572\u2571 \\nu \u22c5\u2502\u03c9\u2080\u2502"
       ]
      }
     ],
     "prompt_number": 4
    },
    {
     "cell_type": "markdown",
     "metadata": {},
     "source": [
      "where"
     ]
    },
    {
     "cell_type": "code",
     "collapsed": false,
     "input": [
      "display(gamma_, nu_)"
     ],
     "language": "python",
     "metadata": {},
     "outputs": [
      {
       "latex": [
        "$$\\gamma = \\frac{k_{1} \\rho}{2} + \\zeta$$"
       ],
       "metadata": {},
       "output_type": "display_data",
       "text": [
        "         k\u2081\u22c5\u03c1    \n",
        "\\gamma = \u2500\u2500\u2500\u2500 + \u03b6\n",
        "          2      "
       ]
      },
      {
       "latex": [
        "$$\\nu = \\frac{k_{1}^{2} \\rho^{2}}{4} + \\rho \\left(k_{1} \\zeta - k_{2}\\right) + \\zeta^{2} - 1$$"
       ],
       "metadata": {},
       "output_type": "display_data",
       "text": [
        "        2  2                         \n",
        "      k\u2081 \u22c5\u03c1                     2    \n",
        "\\nu = \u2500\u2500\u2500\u2500\u2500\u2500 + \u03c1\u22c5(k\u2081\u22c5\u03b6 - k\u2082) + \u03b6  - 1\n",
        "        4                            "
       ]
      }
     ],
     "prompt_number": 5
    },
    {
     "cell_type": "markdown",
     "metadata": {},
     "source": [
      "To obtain the poles as advertised above, $K$ has to be chosen as follows:"
     ]
    },
    {
     "cell_type": "code",
     "collapsed": false,
     "input": [
      "k1_ = sym.Eq(k1, sym.solve(gamma_, k1)[0])\n",
      "k2_ = sym.Eq(k2, sym.solve(nu_.subs(k1_.lhs, k1_.rhs), k2)[0])\n",
      "sym.Eq(sym.MatrixSymbol('K', 1, 3), \n",
      "       K.subs(k1_.lhs, k1_.rhs).subs(k2_.lhs, k2_.rhs))"
     ],
     "language": "python",
     "metadata": {},
     "outputs": [
      {
       "latex": [
        "$$K = \\left[\\begin{matrix}0 & \\frac{1}{\\rho} \\left(2 \\gamma - 2 \\zeta\\right) & \\frac{1}{\\rho} \\left(\\gamma^{2} - \\nu - 1\\right)\\end{matrix}\\right]$$"
       ],
       "metadata": {},
       "output_type": "pyout",
       "prompt_number": 6,
       "text": [
        "    \u23a1                         2          \u23a4\n",
        "    \u23a2   2\u22c5(\\gamma - \u03b6)  \\gamma  - \\nu - 1\u23a5\n",
        "K = \u23a20  \u2500\u2500\u2500\u2500\u2500\u2500\u2500\u2500\u2500\u2500\u2500\u2500\u2500\u2500  \u2500\u2500\u2500\u2500\u2500\u2500\u2500\u2500\u2500\u2500\u2500\u2500\u2500\u2500\u2500\u2500\u2500\u23a5\n",
        "    \u23a3         \u03c1                 \u03c1        \u23a6"
       ]
      }
     ],
     "prompt_number": 6
    },
    {
     "cell_type": "markdown",
     "metadata": {},
     "source": [
      "Finally, we require that the unit-step response on $\\delta P$ is $\\rho$, i.e. the same as in the uncontrolled system. To achieve that, we choose $k_r$ as follows:"
     ]
    },
    {
     "cell_type": "code",
     "collapsed": false,
     "input": [
      "dPstep = sym.simplify(-Ap_.rhs**-1 * Bp_.rhs)[1]\n",
      "dPstep = dPstep.subs(k2_.lhs, k2_.rhs)\n",
      "kr_ = sym.Eq(kr, sym.solve(sym.Eq(rho, dPstep), kr)[0])\n",
      "kr_"
     ],
     "language": "python",
     "metadata": {},
     "outputs": [
      {
       "latex": [
        "$$k_{r} = \\gamma^{2} - \\nu$$"
       ],
       "metadata": {},
       "output_type": "pyout",
       "prompt_number": 7,
       "text": [
        "           2      \n",
        "k\u1d63 = \\gamma  - \\nu"
       ]
      }
     ],
     "prompt_number": 7
    }
   ],
   "metadata": {}
  }
 ]
}