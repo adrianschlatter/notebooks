{
 "metadata": {
  "name": "",
  "signature": "sha256:a6525ea45abe04bebe4ed83ef94a9ed7b25ca1e31ef53375c27a52d2f1cc61c9"
 },
 "nbformat": 3,
 "nbformat_minor": 0,
 "worksheets": [
  {
   "cells": [
    {
     "cell_type": "markdown",
     "metadata": {},
     "source": [
      "# Linearized Dynamics Near Steady-State\n",
      "\n",
      "We start from the linearized state-equations of the passively mode-locked laser [ref1] [ref1]\n",
      "\n",
      "[ref1]: https://github.com/adrianschlatter/notebooks/blob/master/Dynamics%20of%20Passively%20Mode-Locked%20Lasers.ipynb"
     ]
    },
    {
     "cell_type": "code",
     "collapsed": false,
     "input": [
      "import sympy as sym\n",
      "sym.init_printing(use_latex='mathjax')\n",
      "\n",
      "Pst, gst, EsatL, dqPdEP = sym.symbols(\"P_{st} g_{st} E_{satL} q'_P\")\n",
      "TR, tauL, etaP, Toc, PP0 = sym.symbols('T_R tau_L eta_P T_{oc} P_{P0}')\n",
      "alpha, beta, gamma, epsilon = sym.symbols('alpha beta gamma epsilon')\n",
      "w0 = sym.symbols('omega_0')\n",
      "\n",
      "Pst_ = sym.Eq(Pst, -EsatL / tauL + etaP * PP0 / gst)\n",
      "\n",
      "x = sym.MatrixSymbol('x', 2, 1)\n",
      "xdot = sym.MatrixSymbol('xdot', 2, 1)\n",
      "y = sym.MatrixSymbol('y', 1, 1)\n",
      "u = sym.MatrixSymbol('u', 1, 1)\n",
      "\n",
      "A = sym.Matrix([[-Pst * dqPdEP, Pst / TR],\n",
      "                [-gst / EsatL, -1 / tauL - Pst / EsatL]])\n",
      "B = sym.Matrix([[0], [etaP / EsatL]])\n",
      "C = sym.Matrix([[Toc, 0]])\n",
      "\n",
      "sym.Eq(xdot, A * x + B * u)"
     ],
     "language": "python",
     "metadata": {},
     "outputs": [
      {
       "latex": [
        "$$\\dot{x} = \\left[\\begin{matrix}0\\\\\\frac{\\eta_{P}}{E_{{satL}}}\\end{matrix}\\right] u + \\left[\\begin{matrix}- P_{{st}} q'_{P} & \\frac{P_{{st}}}{T_{R}}\\\\- \\frac{g_{{st}}}{E_{{satL}}} & - \\frac{1}{\\tau_{L}} - \\frac{P_{{st}}}{E_{{satL}}}\\end{matrix}\\right] x$$"
       ],
       "metadata": {},
       "output_type": "pyout",
       "prompt_number": 1,
       "text": [
        "                    \u23a1                   P_{st}     \u23a4  \n",
        "x\u0307 = \u23a1   0    \u23a4\u22c5u + \u23a2-P_{st}\u22c5q'_P       \u2500\u2500\u2500\u2500\u2500\u2500     \u23a5\u22c5x\n",
        "     \u23a2        \u23a5     \u23a2                    T_R       \u23a5  \n",
        "     \u23a2  \u03b7_P   \u23a5     \u23a2                              \u23a5  \n",
        "     \u23a2\u2500\u2500\u2500\u2500\u2500\u2500\u2500\u2500\u23a5     \u23a2  -g_{st}        1     P_{st} \u23a5  \n",
        "     \u23a3E_{satL}\u23a6     \u23a2  \u2500\u2500\u2500\u2500\u2500\u2500\u2500\u2500    - \u2500\u2500\u2500 - \u2500\u2500\u2500\u2500\u2500\u2500\u2500\u2500\u23a5  \n",
        "                    \u23a3  E_{satL}      \u03c4_L   E_{satL}\u23a6  "
       ]
      }
     ],
     "prompt_number": 1
    },
    {
     "cell_type": "code",
     "collapsed": false,
     "input": [
      "sym.Eq(y, C * x)"
     ],
     "language": "python",
     "metadata": {},
     "outputs": [
      {
       "latex": [
        "$$y = \\left[\\begin{matrix}T_{{oc}} & 0\\end{matrix}\\right] x$$"
       ],
       "metadata": {},
       "output_type": "pyout",
       "prompt_number": 2,
       "text": [
        "y = [T_{oc}  0]\u22c5x"
       ]
      }
     ],
     "prompt_number": 2
    },
    {
     "cell_type": "markdown",
     "metadata": {},
     "source": [
      "where $\\vec{x} = \\left[ \\delta P, \\delta g \\right]^T$, $\\vec u = \\left[\\delta P_P \\right]$, and $\\vec y = \\left[ \\delta P_{out} \\right]$.\n",
      "\n",
      "Now, we rewrite this in new state variables $\\vec x' = \\left[ \\delta \\dot{P} / \\omega_0, \\delta P \\right]$, with\n",
      "\n",
      "$\\omega_0 = \\sqrt{ \\frac{P_{st} g_{st}}{T_R E_{satL}} + P_{st} q'_P \\left( 1 / \\tau_L + P_{st} / E_{satL} \\right)}$.\n",
      "\n",
      "From the state equation above, we immediately see the transformation matrix $M$:"
     ]
    },
    {
     "cell_type": "code",
     "collapsed": false,
     "input": [
      "M = sym.Matrix([[-Pst * dqPdEP / w0, Pst / TR / w0],\n",
      "                [1, 0]])\n",
      "w0_ = sym.Eq(w0, sym.sqrt(-A[0, 1] * A[1, 0] + A[0, 0] * A[1, 1]))\n",
      "xp = sym.MatrixSymbol(\"x'\", 2, 1)\n",
      "sym.simplify(sym.Eq(xp, M * x))"
     ],
     "language": "python",
     "metadata": {},
     "outputs": [
      {
       "latex": [
        "$$x' = \\left[\\begin{matrix}- \\frac{P_{{st}} q'_{P}}{\\omega_{0}} & \\frac{P_{{st}}}{T_{R} \\omega_{0}}\\\\1 & 0\\end{matrix}\\right] x$$"
       ],
       "metadata": {},
       "output_type": "pyout",
       "prompt_number": 3,
       "text": [
        "     \u23a1-P_{st}\u22c5q'_P   P_{st}\u23a4  \n",
        "x' = \u23a2\u2500\u2500\u2500\u2500\u2500\u2500\u2500\u2500\u2500\u2500\u2500\u2500\u2500  \u2500\u2500\u2500\u2500\u2500\u2500\u23a5\u22c5x\n",
        "     \u23a2      \u03c9\u2080       T_R\u22c5\u03c9\u2080\u23a5  \n",
        "     \u23a2                     \u23a5  \n",
        "     \u23a3      1          0   \u23a6  "
       ]
      }
     ],
     "prompt_number": 3
    },
    {
     "cell_type": "markdown",
     "metadata": {},
     "source": [
      "The transformed state equation is:\n",
      "\n",
      "$ \\begin{align*}\n",
      "\\dot{x'} &= M A M^{-1} x' + M B u \\\\\n",
      "y &= C \\cdot x = C M^{-1} x'\n",
      "\\end{align*}$"
     ]
    },
    {
     "cell_type": "code",
     "collapsed": false,
     "input": [
      "M = M.subs(w0_.lhs, w0_.rhs)\n",
      "\n",
      "Bp = M * B\n",
      "Ap = M * A * M**-1\n",
      "sym.Eq(sym.MatrixSymbol(\"A'\", 2, 2), sym.simplify(Ap))"
     ],
     "language": "python",
     "metadata": {},
     "outputs": [
      {
       "latex": [
        "$$A' = \\left[\\begin{matrix}- P_{{st}} q'_{P} - \\frac{1}{\\tau_{L}} - \\frac{P_{{st}}}{E_{{satL}}} & - \\sqrt{\\frac{P_{{st}} q'_{P}}{\\tau_{L}} + \\frac{P_{{st}}^{2} q'_{P}}{E_{{satL}}} + \\frac{P_{{st}} g_{{st}}}{E_{{satL}} T_{R}}}\\\\\\sqrt{\\frac{P_{{st}} q'_{P}}{\\tau_{L}} + \\frac{P_{{st}}^{2} q'_{P}}{E_{{satL}}} + \\frac{P_{{st}} g_{{st}}}{E_{{satL}} T_{R}}} & 0\\end{matrix}\\right]$$"
       ],
       "metadata": {},
       "output_type": "pyout",
       "prompt_number": 4,
       "text": [
        "     \u23a1                                                         _______________\n",
        "     \u23a2                                                        \u2571               \n",
        "     \u23a2                          1     P_{st}                 \u2571  P_{st}\u22c5q'_P   \n",
        "A' = \u23a2          -P_{st}\u22c5q'_P - \u2500\u2500\u2500 - \u2500\u2500\u2500\u2500\u2500\u2500\u2500\u2500            -  \u2571   \u2500\u2500\u2500\u2500\u2500\u2500\u2500\u2500\u2500\u2500\u2500 + \n",
        "     \u23a2                         \u03c4_L   E_{satL}             \u2572\u2571        \u03c4_L       \n",
        "     \u23a2                                                                        \n",
        "     \u23a2     ____________________________________________                       \n",
        "     \u23a2    \u2571                     2                                             \n",
        "     \u23a2   \u2571  P_{st}\u22c5q'_P   P_{st} \u22c5q'_P   P_{st}\u22c5g_{st}                        \n",
        "     \u23a2  \u2571   \u2500\u2500\u2500\u2500\u2500\u2500\u2500\u2500\u2500\u2500\u2500 + \u2500\u2500\u2500\u2500\u2500\u2500\u2500\u2500\u2500\u2500\u2500\u2500 + \u2500\u2500\u2500\u2500\u2500\u2500\u2500\u2500\u2500\u2500\u2500\u2500\u2500                        \n",
        "     \u23a3\u2572\u2571        \u03c4_L         E_{satL}      E_{satL}\u22c5T_R                        \n",
        "\n",
        "_____________________________\u23a4\n",
        "      2                      \u23a5\n",
        "P_{st} \u22c5q'_P   P_{st}\u22c5g_{st} \u23a5\n",
        "\u2500\u2500\u2500\u2500\u2500\u2500\u2500\u2500\u2500\u2500\u2500\u2500 + \u2500\u2500\u2500\u2500\u2500\u2500\u2500\u2500\u2500\u2500\u2500\u2500\u2500 \u23a5\n",
        "  E_{satL}      E_{satL}\u22c5T_R \u23a5\n",
        "                             \u23a5\n",
        "                             \u23a5\n",
        "                             \u23a5\n",
        "                             \u23a5\n",
        "   0                         \u23a5\n",
        "                             \u23a6"
       ]
      }
     ],
     "prompt_number": 4
    },
    {
     "cell_type": "code",
     "collapsed": false,
     "input": [
      "sym.Eq(sym.MatrixSymbol(\"B'\", 2, 1), sym.simplify(Bp))"
     ],
     "language": "python",
     "metadata": {},
     "outputs": [
      {
       "latex": [
        "$$B' = \\left[\\begin{matrix}\\frac{P_{{st}} \\eta_{P}}{E_{{satL}} T_{R} \\sqrt{\\frac{P_{{st}}}{E_{{satL}} T_{R} \\tau_{L}} \\left(T_{R} q'_{P} \\left(E_{{satL}} + P_{{st}} \\tau_{L}\\right) + g_{{st}} \\tau_{L}\\right)}}\\\\0\\end{matrix}\\right]$$"
       ],
       "metadata": {},
       "output_type": "pyout",
       "prompt_number": 5,
       "text": [
        "     \u23a1                                P_{st}\u22c5\u03b7_P                              \n",
        "B' = \u23a2\u2500\u2500\u2500\u2500\u2500\u2500\u2500\u2500\u2500\u2500\u2500\u2500\u2500\u2500\u2500\u2500\u2500\u2500\u2500\u2500\u2500\u2500\u2500\u2500\u2500\u2500\u2500\u2500\u2500\u2500\u2500\u2500\u2500\u2500\u2500\u2500\u2500\u2500\u2500\u2500\u2500\u2500\u2500\u2500\u2500\u2500\u2500\u2500\u2500\u2500\u2500\u2500\u2500\u2500\u2500\u2500\u2500\u2500\u2500\u2500\u2500\u2500\u2500\u2500\u2500\u2500\u2500\u2500\u2500\u2500\u2500\u2500\n",
        "     \u23a2                 _______________________________________________________\n",
        "     \u23a2                \u2571 P_{st}\u22c5(T_R\u22c5q'_P\u22c5(E_{satL} + P_{st}\u22c5\u03c4_L) + g_{st}\u22c5\u03c4_L)\n",
        "     \u23a2E_{satL}\u22c5T_R\u22c5  \u2571  \u2500\u2500\u2500\u2500\u2500\u2500\u2500\u2500\u2500\u2500\u2500\u2500\u2500\u2500\u2500\u2500\u2500\u2500\u2500\u2500\u2500\u2500\u2500\u2500\u2500\u2500\u2500\u2500\u2500\u2500\u2500\u2500\u2500\u2500\u2500\u2500\u2500\u2500\u2500\u2500\u2500\u2500\u2500\u2500\u2500\u2500\u2500\u2500\u2500\u2500\u2500\u2500\u2500\u2500\n",
        "     \u23a2             \u2572\u2571                      E_{satL}\u22c5T_R\u22c5\u03c4_L                   \n",
        "     \u23a2                                                                        \n",
        "     \u23a3                                    0                                   \n",
        "\n",
        " \u23a4\n",
        "\u2500\u23a5\n",
        "_\u23a5\n",
        " \u23a5\n",
        " \u23a5\n",
        " \u23a5\n",
        " \u23a5\n",
        " \u23a6"
       ]
      }
     ],
     "prompt_number": 5
    },
    {
     "cell_type": "markdown",
     "metadata": {},
     "source": [
      "We recognize that the off-diagonal elements of $A$ are $\\omega_0$ and $-\\omega_0$. Furthermore, we define\n",
      "\n",
      "$ \\begin{align*}\n",
      "\\zeta &= \\frac{1}{2 \\omega_0} \\left(1 / \\tau_L + P_{st} \\cdot \\left(q'_P + 1 / E_{satL} \\right) \\right) \\\\\n",
      "\\rho &= \\frac{P_{st} \\eta_P}{E_{satL} T_R \\omega_0^2}\n",
      "\\end{align*} $"
     ]
    },
    {
     "cell_type": "code",
     "collapsed": false,
     "input": [
      "zeta = sym.Symbol('zeta', real=True)\n",
      "zeta_ = sym.Eq(zeta, (1 / tauL + Pst * (dqPdEP + 1 / EsatL)) / 2 / w0)\n",
      "rho = sym.Symbol('rho', real=True)\n",
      "rho_ = sym.Eq(rho, Pst * etaP / (EsatL * TR * w0) / w0)\n",
      "\n",
      "\n",
      "Bpn = sym.Matrix(Bp)\n",
      "Apn = sym.Matrix(Ap)\n",
      "\n",
      "Bpn[0, 0] = Bp[0, 0] / (w0_.lhs / w0_.rhs) * rho_.lhs / rho_.rhs\n",
      "\n",
      "Apn[0, 0] = Ap[0, 0] * zeta_.lhs / zeta_.rhs\n",
      "Apn[0, 1] = Ap[0, 1] * w0_.lhs / w0_.rhs\n",
      "Apn[1, 0] = Ap[1, 0] * w0_.lhs / w0_.rhs\n",
      "\n",
      "sym.Eq(sym.MatrixSymbol(\"x'dot\", 2, 1), sym.simplify(Apn * xp + Bpn * u))"
     ],
     "language": "python",
     "metadata": {},
     "outputs": [
      {
       "latex": [
        "$$\\dot{x'} = \\left[\\begin{matrix}\\omega_{0} \\rho\\\\0\\end{matrix}\\right] u + \\left[\\begin{matrix}- 2 \\omega_{0} \\zeta & - \\omega_{0}\\\\\\omega_{0} & 0\\end{matrix}\\right] x'$$"
       ],
       "metadata": {},
       "output_type": "pyout",
       "prompt_number": 6,
       "text": [
        "x'\u0307 = \u23a1\u03c9\u2080\u22c5\u03c1\u23a4\u22c5u + \u23a1-2\u22c5\u03c9\u2080\u22c5\u03b6  -\u03c9\u2080\u23a4\u22c5x'\n",
        "      \u23a2    \u23a5     \u23a2            \u23a5   \n",
        "      \u23a3 0  \u23a6     \u23a3  \u03c9\u2080      0 \u23a6   "
       ]
      }
     ],
     "prompt_number": 6
    },
    {
     "cell_type": "markdown",
     "metadata": {},
     "source": [
      "Looking at the eigenvalues (see below), we see that the system\n",
      "\n",
      "- is stable if $\\zeta > 0$\n",
      "- is unstable if $\\zeta < 0$ (always)\n",
      "- has oscillatory modes for $-1 < \\zeta < 1$ (radicand is negative)\n",
      "- is critically damped for $\\zeta = 1$\n",
      "- is over-critically damped for $\\zeta > 1$ (radicand is positive)\n",
      "\n",
      "Of course, this analysis is only true if $\\omega_0$ is real."
     ]
    },
    {
     "cell_type": "code",
     "collapsed": false,
     "input": [
      "Apn.eigenvals()"
     ],
     "language": "python",
     "metadata": {},
     "outputs": [
      {
       "latex": [
        "$$\\left \\{ \\omega_{0} \\left(- \\zeta - \\sqrt{\\left(\\zeta - 1\\right) \\left(\\zeta + 1\\right)}\\right) : 1, \\quad \\omega_{0} \\left(- \\zeta + \\sqrt{\\left(\\zeta - 1\\right) \\left(\\zeta + 1\\right)}\\right) : 1\\right \\}$$"
       ],
       "metadata": {},
       "output_type": "pyout",
       "prompt_number": 7,
       "text": [
        "\u23a7   \u239b       _________________\u239e        \u239b       _________________\u239e   \u23ab\n",
        "\u23a8\u03c9\u2080\u22c5\u239d-\u03b6 - \u2572\u2571 (\u03b6 - 1)\u22c5(\u03b6 + 1) \u23a0: 1, \u03c9\u2080\u22c5\u239d-\u03b6 + \u2572\u2571 (\u03b6 - 1)\u22c5(\u03b6 + 1) \u23a0: 1\u23ac\n",
        "\u23a9                                                                  \u23ad"
       ]
      }
     ],
     "prompt_number": 7
    },
    {
     "cell_type": "markdown",
     "metadata": {},
     "source": [
      "Now, we apply a unit-step to the input of the system and determine where the output will stabilize. To do that, we have to solve the following equation:"
     ]
    },
    {
     "cell_type": "code",
     "collapsed": false,
     "input": [
      "eq = sym.Eq(sym.Matrix([[0], [0]]), Apn * xp + Bpn)\n",
      "sym.simplify(eq)"
     ],
     "language": "python",
     "metadata": {},
     "outputs": [
      {
       "latex": [
        "$$\\left[\\begin{matrix}0\\\\0\\end{matrix}\\right] = \\left[\\begin{matrix}\\omega_{0} \\rho\\\\0\\end{matrix}\\right] + \\left[\\begin{matrix}- 2 \\omega_{0} \\zeta & - \\omega_{0}\\\\\\omega_{0} & 0\\end{matrix}\\right] x'$$"
       ],
       "metadata": {},
       "output_type": "pyout",
       "prompt_number": 8,
       "text": [
        "\u23a10\u23a4 = \u23a1\u03c9\u2080\u22c5\u03c1\u23a4 + \u23a1-2\u22c5\u03c9\u2080\u22c5\u03b6  -\u03c9\u2080\u23a4\u22c5x'\n",
        "\u23a2 \u23a5   \u23a2    \u23a5   \u23a2            \u23a5   \n",
        "\u23a30\u23a6   \u23a3 0  \u23a6   \u23a3  \u03c9\u2080      0 \u23a6   "
       ]
      }
     ],
     "prompt_number": 8
    },
    {
     "cell_type": "markdown",
     "metadata": {},
     "source": [
      "From the resulting $x'$ we obtain for the steady-state $y$ response:"
     ]
    },
    {
     "cell_type": "code",
     "collapsed": false,
     "input": [
      "sym.simplify(C * M**-1 * -Apn**-1 * Bpn)[0]"
     ],
     "language": "python",
     "metadata": {},
     "outputs": [
      {
       "latex": [
        "$$T_{{oc}} \\rho$$"
       ],
       "metadata": {},
       "output_type": "pyout",
       "prompt_number": 9,
       "text": [
        "T_{oc}\u22c5\u03c1"
       ]
      }
     ],
     "prompt_number": 9
    },
    {
     "cell_type": "markdown",
     "metadata": {},
     "source": [
      "The DC-response to small pump-power changes is the slope efficiency."
     ]
    },
    {
     "cell_type": "code",
     "collapsed": false,
     "input": [
      "sym.simplify((Toc * rho_.rhs).subs([(w0_.lhs, w0_.rhs),\n",
      "                                    (Pst_.lhs, Pst_.rhs)]))"
     ],
     "language": "python",
     "metadata": {},
     "outputs": [
      {
       "latex": [
        "$$\\frac{T_{{oc}} \\eta_{P} g_{{st}}}{P_{{P0}} T_{R} \\eta_{P} q'_{P} + g_{{st}}^{2}}$$"
       ],
       "metadata": {},
       "output_type": "pyout",
       "prompt_number": 10,
       "text": [
        "      T_{oc}\u22c5\u03b7_P\u22c5g_{st}      \n",
        "\u2500\u2500\u2500\u2500\u2500\u2500\u2500\u2500\u2500\u2500\u2500\u2500\u2500\u2500\u2500\u2500\u2500\u2500\u2500\u2500\u2500\u2500\u2500\u2500\u2500\u2500\u2500\u2500\u2500\n",
        "                            2\n",
        "P_{P0}\u22c5T_R\u22c5\u03b7_P\u22c5q'_P + g_{st} "
       ]
      }
     ],
     "prompt_number": 10
    },
    {
     "cell_type": "markdown",
     "metadata": {},
     "source": [
      "For $q'_P = 0$ (no saturable absorber), this simplifies to $\\eta_P \\cdot \\frac{T_{oc}}{g_{st}}$, i.e. the slope efficiency depends only on the pump-absorption efficiency and the ratio of output coupling to total losses."
     ]
    }
   ],
   "metadata": {}
  }
 ]
}