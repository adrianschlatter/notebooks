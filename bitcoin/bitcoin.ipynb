{
 "cells": [
  {
   "cell_type": "markdown",
   "metadata": {},
   "source": [
    "# Bitcoin Blockchain Bloat\n",
    "\n",
    "Bitcoin is based on a blockchain that grows with every transaction that is made. At the time I write this (2017-07-15), the blockchain's size is ~120 GB - a considerable size compared to my SSD (500 GB) and a massive size for a download. And it grows quickly.\n",
    "\n",
    "The idea behind bitcoin is to create a decentralized currency, which means that every bitcoiner has a copy of the full blockchain. Given the size and growth of the blockchain, will that remain feasible?"
   ]
  },
  {
   "cell_type": "code",
   "execution_count": 28,
   "metadata": {},
   "outputs": [
    {
     "data": {
      "image/png": "[encoded data removed]",
      "text/plain": [
       "<matplotlib.figure.Figure at 0x7f3e5ccb6cc0>"
      ]
     },
     "metadata": {},
     "output_type": "display_data"
    }
   ],
   "source": [
    "%matplotlib inline\n",
    "\n",
    "import pandas as pd\n",
    "import matplotlib.pyplot as pl\n",
    "import matplotlib.dates as mdates\n",
    "import statsmodels.formula.api as sm\n",
    "import numpy as np\n",
    "\n",
    "data = pd.read_csv('https://api.blockchain.info/charts/blocks-size?format=csv&timespan=all', names=['Date', 'Size'], index_col=0)\n",
    "data['Date'] = pd.to_datetime(data.index)\n",
    "data['date_delta'] = (data['Date'] - data['Date'].min())  \\\n",
    "                        / np.timedelta64(1,'Y')\n",
    "\n",
    "fit = sm.ols('np.log10(Size) ~ date_delta', data=data.loc['2015':]).fit()\n",
    "q, m = fit.params\n",
    "\n",
    "pl.close('all')\n",
    "\n",
    "years = mdates.YearLocator()   # every year\n",
    "months = mdates.MonthLocator()  # every month\n",
    "yearsFmt = mdates.DateFormatter('%Y')\n",
    "\n",
    "fig, ax = pl.subplots(1, 1)\n",
    "\n",
    "ax.semilogy(data['Date'], 10**(q + m * data['date_delta']), 'k-',\n",
    "            label='Fit: {0:.1f} dB/year'.format(10 * m))\n",
    "ax.semilogy(data['Date'], data['Size'], 'r-', label='__nolabel__')\n",
    "\n",
    "pl.legend(loc=4)\n",
    "\n",
    "ax.set_xlabel('Year')\n",
    "ax.set_ylabel('Blockchain Size (MB)')\n",
    "ax.xaxis.set_major_locator(years)\n",
    "ax.xaxis.set_major_formatter(yearsFmt)\n",
    "ax.xaxis.set_minor_locator(months)\n",
    "\n",
    "ax.set_xlim(['2013', '2018'])\n",
    "ax.set_ylim([4000, 150000]);"
   ]
  },
  {
   "cell_type": "markdown",
   "metadata": {},
   "source": [
    "The blockchain seems to grow exponentially with 2.6 dB/year (~factor of 1.8 per year). What about hard drives?\n",
    "\n",
    "![IBM Roadmap](http://www.deepspar.com/images/IBM_HDD_Roarmap.jpg)\n"
   ]
  },
  {
   "cell_type": "markdown",
   "metadata": {},
   "source": [
    "IBM's roadmap indicates about a factor of 200 in 12 years, i.e., 1.9 dB/year or a factor of 1.5 to 1.6/year. In other words, the situation will not improve over time, it will grow worse.\n",
    "\n",
    "## Conclusion\n",
    "\n",
    "If these extrapolations hold, it will become impossible for every bitcoiner to have a full blockchain. To solve this, the blockchain growth must slow considerably). Alternatively, many bitcoiners may share a blockchain.\n",
    "\n",
    "May the latter give rise to a new form of banks?"
   ]
  }
 ],
 "metadata": {
  "kernelspec": {
   "display_name": "Python 3",
   "language": "python",
   "name": "python3"
  },
  "language_info": {
   "codemirror_mode": {
    "name": "ipython",
    "version": 3
   },
   "file_extension": ".py",
   "mimetype": "text/x-python",
   "name": "python",
   "nbconvert_exporter": "python",
   "pygments_lexer": "ipython3",
   "version": "3.5.2"
  }
 },
 "nbformat": 4,
 "nbformat_minor": 1
}
